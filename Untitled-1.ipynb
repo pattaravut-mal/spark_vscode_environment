{
 "cells": [
  {
   "cell_type": "markdown",
   "metadata": {},
   "source": [
    "# Import Required Libraries\n",
    "Import the necessary libraries, including PySpark."
   ]
  },
  {
   "cell_type": "code",
   "execution_count": 1,
   "metadata": {},
   "outputs": [
    {
     "name": "stderr",
     "output_type": "stream",
     "text": [
      "/usr/local/lib/python3.9/dist-packages/pyspark/bin/load-spark-env.sh: line 68: ps: command not found\n",
      "Setting default log level to \"WARN\".\n",
      "To adjust logging level use sc.setLogLevel(newLevel). For SparkR, use setLogLevel(newLevel).\n",
      "25/01/04 07:39:27 WARN NativeCodeLoader: Unable to load native-hadoop library for your platform... using builtin-java classes where applicable\n"
     ]
    }
   ],
   "source": [
    "# Import the necessary libraries, including PySpark\n",
    "from pyspark.sql import SparkSession\n",
    "# Test\n",
    "# Initialize a Spark session\n",
    "spark = SparkSession.builder \\\n",
    "    .appName(\"Load Data with Spark\") \\\n",
    "    .getOrCreate()"
   ]
  },
  {
   "cell_type": "markdown",
   "metadata": {},
   "source": [
    "# Initialize Spark Session\n",
    "Initialize a Spark session using SparkSession.builder."
   ]
  },
  {
   "cell_type": "code",
   "execution_count": 2,
   "metadata": {},
   "outputs": [
    {
     "data": {
      "text/plain": [
       "'3.5.4'"
      ]
     },
     "execution_count": 2,
     "metadata": {},
     "output_type": "execute_result"
    }
   ],
   "source": [
    "# Initialize a Spark session using SparkSession.builder\n",
    "spark = SparkSession.builder \\\n",
    "    .appName(\"Load Data with Spark\") \\\n",
    "    .getOrCreate()\n",
    "\n",
    "# Verify the Spark session\n",
    "spark.version"
   ]
  },
  {
   "cell_type": "markdown",
   "metadata": {},
   "source": [
    "# Load Data from CSV File\n",
    "Use the spark.read.csv() function to load data from a CSV file."
   ]
  },
  {
   "cell_type": "code",
   "execution_count": 3,
   "metadata": {},
   "outputs": [
    {
     "name": "stdout",
     "output_type": "stream",
     "text": [
      "+-------+---+-----------+\n",
      "|   Name|Age|       City|\n",
      "+-------+---+-----------+\n",
      "|  Alice| 30|   New York|\n",
      "|    Bob| 25|Los Angeles|\n",
      "|Charlie| 35|    Chicago|\n",
      "+-------+---+-----------+\n",
      "\n"
     ]
    }
   ],
   "source": [
    "# Load Data from CSV File\n",
    "\n",
    "# Define the path to the CSV file\n",
    "csv_file_path = \"/workspace/sample.csv\"\n",
    "\n",
    "# Load the data from the CSV file into a DataFrame\n",
    "df = spark.read.csv(csv_file_path, header=True, inferSchema=True)\n",
    "\n",
    "# Show the first few rows of the DataFrame to verify the data is loaded correctly\n",
    "df.show()"
   ]
  },
  {
   "cell_type": "markdown",
   "metadata": {},
   "source": [
    "# Load Data from Parquet File\n",
    "Use the spark.read.parquet() function to load data from a Parquet file."
   ]
  },
  {
   "cell_type": "code",
   "execution_count": null,
   "metadata": {},
   "outputs": [],
   "source": [
    "# Load Data from Parquet File\n",
    "\n",
    "# Define the path to the Parquet file\n",
    "parquet_file_path = \"path/to/your/parquetfile.parquet\"\n",
    "\n",
    "# Load the data from the Parquet file into a DataFrame\n",
    "df_parquet = spark.read.parquet(parquet_file_path)\n",
    "\n",
    "# Show the first few rows of the DataFrame to verify the data is loaded correctly\n",
    "df_parquet.show()"
   ]
  },
  {
   "cell_type": "markdown",
   "metadata": {},
   "source": [
    "# Load Data from JSON File\n",
    "Use the spark.read.json() function to load data from a JSON file."
   ]
  },
  {
   "cell_type": "code",
   "execution_count": null,
   "metadata": {},
   "outputs": [],
   "source": [
    "# Load Data from JSON File\n",
    "\n",
    "# Define the path to the JSON file\n",
    "json_file_path = \"path/to/your/jsonfile.json\"\n",
    "\n",
    "# Load the data from the JSON file into a DataFrame\n",
    "df_json = spark.read.json(json_file_path)\n",
    "\n",
    "# Show the first few rows of the DataFrame to verify the data is loaded correctly\n",
    "df_json.show()"
   ]
  }
 ],
 "metadata": {
  "kernelspec": {
   "display_name": "Python 3",
   "language": "python",
   "name": "python3"
  },
  "language_info": {
   "codemirror_mode": {
    "name": "ipython",
    "version": 3
   },
   "file_extension": ".py",
   "mimetype": "text/x-python",
   "name": "python",
   "nbconvert_exporter": "python",
   "pygments_lexer": "ipython3",
   "version": "3.9.2"
  }
 },
 "nbformat": 4,
 "nbformat_minor": 2
}
